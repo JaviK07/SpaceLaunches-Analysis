{
 "cells": [
  {
   "cell_type": "code",
   "execution_count": 17,
   "metadata": {},
   "outputs": [],
   "source": [
    "import pandas as pd\n",
    "import sqlite3\n",
    "import seaborn as sb\n",
    "import matplotlib as plt"
   ]
  },
  {
   "cell_type": "code",
   "execution_count": 18,
   "metadata": {},
   "outputs": [
    {
     "data": {
      "text/plain": [
       "4630"
      ]
     },
     "execution_count": 18,
     "metadata": {},
     "output_type": "execute_result"
    }
   ],
   "source": [
    "# SQLite database passage\n",
    "conn = sqlite3.connect('space_missions.sqlite')\n",
    "cur = conn.cursor()\n",
    "\n",
    "tablename = 'records'\n",
    "\n",
    "df = pd.read_csv('space_missions_normalized.csv')\n",
    "df.to_sql(tablename, conn, if_exists='replace', index=False)"
   ]
  },
  {
   "cell_type": "code",
   "execution_count": 19,
   "metadata": {},
   "outputs": [
    {
     "data": {
      "text/html": [
       "<div>\n",
       "<style scoped>\n",
       "    .dataframe tbody tr th:only-of-type {\n",
       "        vertical-align: middle;\n",
       "    }\n",
       "\n",
       "    .dataframe tbody tr th {\n",
       "        vertical-align: top;\n",
       "    }\n",
       "\n",
       "    .dataframe thead th {\n",
       "        text-align: right;\n",
       "    }\n",
       "</style>\n",
       "<table border=\"1\" class=\"dataframe\">\n",
       "  <thead>\n",
       "    <tr style=\"text-align: right;\">\n",
       "      <th></th>\n",
       "      <th>Country</th>\n",
       "      <th>TotalCompaniesPerCountry</th>\n",
       "    </tr>\n",
       "  </thead>\n",
       "  <tbody>\n",
       "    <tr>\n",
       "      <th>0</th>\n",
       "      <td>USA</td>\n",
       "      <td>19</td>\n",
       "    </tr>\n",
       "    <tr>\n",
       "      <th>1</th>\n",
       "      <td>Kazakhstan</td>\n",
       "      <td>11</td>\n",
       "    </tr>\n",
       "    <tr>\n",
       "      <th>2</th>\n",
       "      <td>Russia</td>\n",
       "      <td>9</td>\n",
       "    </tr>\n",
       "    <tr>\n",
       "      <th>3</th>\n",
       "      <td>China</td>\n",
       "      <td>8</td>\n",
       "    </tr>\n",
       "    <tr>\n",
       "      <th>4</th>\n",
       "      <td>France</td>\n",
       "      <td>5</td>\n",
       "    </tr>\n",
       "    <tr>\n",
       "      <th>5</th>\n",
       "      <td>Japan</td>\n",
       "      <td>4</td>\n",
       "    </tr>\n",
       "    <tr>\n",
       "      <th>6</th>\n",
       "      <td>Australia</td>\n",
       "      <td>3</td>\n",
       "    </tr>\n",
       "    <tr>\n",
       "      <th>7</th>\n",
       "      <td>Iran</td>\n",
       "      <td>2</td>\n",
       "    </tr>\n",
       "    <tr>\n",
       "      <th>8</th>\n",
       "      <td>Yellow Sea</td>\n",
       "      <td>1</td>\n",
       "    </tr>\n",
       "    <tr>\n",
       "      <th>9</th>\n",
       "      <td>South Korea</td>\n",
       "      <td>1</td>\n",
       "    </tr>\n",
       "    <tr>\n",
       "      <th>10</th>\n",
       "      <td>Shahrud Missile Test Site</td>\n",
       "      <td>1</td>\n",
       "    </tr>\n",
       "    <tr>\n",
       "      <th>11</th>\n",
       "      <td>Pacific Ocean</td>\n",
       "      <td>1</td>\n",
       "    </tr>\n",
       "    <tr>\n",
       "      <th>12</th>\n",
       "      <td>Pacific Missile Range Facility</td>\n",
       "      <td>1</td>\n",
       "    </tr>\n",
       "    <tr>\n",
       "      <th>13</th>\n",
       "      <td>North Korea</td>\n",
       "      <td>1</td>\n",
       "    </tr>\n",
       "    <tr>\n",
       "      <th>14</th>\n",
       "      <td>New Zealand</td>\n",
       "      <td>1</td>\n",
       "    </tr>\n",
       "    <tr>\n",
       "      <th>15</th>\n",
       "      <td>New Mexico</td>\n",
       "      <td>1</td>\n",
       "    </tr>\n",
       "    <tr>\n",
       "      <th>16</th>\n",
       "      <td>Kenya</td>\n",
       "      <td>1</td>\n",
       "    </tr>\n",
       "    <tr>\n",
       "      <th>17</th>\n",
       "      <td>Israel</td>\n",
       "      <td>1</td>\n",
       "    </tr>\n",
       "    <tr>\n",
       "      <th>18</th>\n",
       "      <td>India</td>\n",
       "      <td>1</td>\n",
       "    </tr>\n",
       "    <tr>\n",
       "      <th>19</th>\n",
       "      <td>Gran Canaria</td>\n",
       "      <td>1</td>\n",
       "    </tr>\n",
       "    <tr>\n",
       "      <th>20</th>\n",
       "      <td>Brazil</td>\n",
       "      <td>1</td>\n",
       "    </tr>\n",
       "    <tr>\n",
       "      <th>21</th>\n",
       "      <td>Barents Sea</td>\n",
       "      <td>1</td>\n",
       "    </tr>\n",
       "  </tbody>\n",
       "</table>\n",
       "</div>"
      ],
      "text/plain": [
       "                           Country  TotalCompaniesPerCountry\n",
       "0                              USA                        19\n",
       "1                       Kazakhstan                        11\n",
       "2                           Russia                         9\n",
       "3                            China                         8\n",
       "4                           France                         5\n",
       "5                            Japan                         4\n",
       "6                        Australia                         3\n",
       "7                             Iran                         2\n",
       "8                       Yellow Sea                         1\n",
       "9                      South Korea                         1\n",
       "10       Shahrud Missile Test Site                         1\n",
       "11                   Pacific Ocean                         1\n",
       "12  Pacific Missile Range Facility                         1\n",
       "13                     North Korea                         1\n",
       "14                     New Zealand                         1\n",
       "15                      New Mexico                         1\n",
       "16                           Kenya                         1\n",
       "17                          Israel                         1\n",
       "18                           India                         1\n",
       "19                    Gran Canaria                         1\n",
       "20                          Brazil                         1\n",
       "21                     Barents Sea                         1"
      ]
     },
     "execution_count": 19,
     "metadata": {},
     "output_type": "execute_result"
    }
   ],
   "source": [
    "# First analysis query\n",
    "# List of companies per country\n",
    "q = '''\n",
    "SELECT Country, COUNT(DISTINCT Company) AS TotalCompaniesPerCountry\n",
    "FROM records\n",
    "GROUP BY Country\n",
    "ORDER BY TotalCompaniesPerCountry DESC;\n",
    "'''\n",
    "# pd.read_sql_query(q,conn)\n",
    "pd.read_sql_query(q,conn)\n"
   ]
  },
  {
   "cell_type": "code",
   "execution_count": 20,
   "metadata": {},
   "outputs": [
    {
     "data": {
      "text/plain": [
       "22"
      ]
     },
     "execution_count": 20,
     "metadata": {},
     "output_type": "execute_result"
    }
   ],
   "source": [
    "# Creating a new database to save the insights\n",
    "conn2 = sqlite3.connect('space_missions_insights.sqlite') \n",
    "cur = conn.cursor()\n",
    "\n",
    "NtableName = 'companies_country'\n",
    "df2 = pd.read_sql_query(q,conn)\n",
    "df2.to_sql(NtableName, conn2, if_exists='replace', index=False) "
   ]
  },
  {
   "cell_type": "code",
   "execution_count": 21,
   "metadata": {},
   "outputs": [
    {
     "name": "stdout",
     "output_type": "stream",
     "text": [
      "      Country  TotalLaunches\n",
      "0         USA           1467\n",
      "1      Russia           1416\n",
      "2  Kazakhstan            719\n",
      "3       China            365\n",
      "4      France            318\n"
     ]
    }
   ],
   "source": [
    "# Top 5 countries with rocket launches\n",
    "q2 = '''\n",
    "SELECT Country, COUNT(*) AS TotalLaunches\n",
    "FROM records\n",
    "GROUP BY Country\n",
    "ORDER BY TotalLaunches DESC\n",
    "LIMIT 5;\n",
    "'''\n",
    "NtableName2='total_launches_country'\n",
    "df3 = pd.read_sql_query(q2, conn)\n",
    "df3.to_sql(NtableName2, conn2, if_exists='replace', index=False)\n",
    "\n",
    "\n",
    "print(df3)"
   ]
  },
  {
   "cell_type": "code",
   "execution_count": 22,
   "metadata": {},
   "outputs": [
    {
     "name": "stdout",
     "output_type": "stream",
     "text": [
      "      Country  SuccesfullLaunches\n",
      "0      Russia                1323\n",
      "1         USA                1298\n",
      "2  Kazakhstan                 625\n"
     ]
    }
   ],
   "source": [
    "# Top 3 with success launches\n",
    "q3 = '''\n",
    "SELECT Country, COUNT(*) AS SuccesfullLaunches\n",
    "FROM records\n",
    "WHERE MissionStatus = 'Success'\n",
    "GROUP BY Country\n",
    "ORDER BY SuccesfullLaunches DESC\n",
    "LIMIT 3;\n",
    "'''\n",
    "NtableName3 = 'top_suc-mission'\n",
    "df4 = pd.read_sql_query(q3, conn)\n",
    "df4.to_sql(NtableName3, conn2, if_exists='replace', index=False)\n",
    "\n",
    "print(df4)"
   ]
  },
  {
   "cell_type": "code",
   "execution_count": 23,
   "metadata": {},
   "outputs": [
    {
     "name": "stdout",
     "output_type": "stream",
     "text": [
      "      Country  UnsuccessfullLaunches\n",
      "0         USA                    135\n",
      "1  Kazakhstan                     73\n",
      "2      Russia                     63\n"
     ]
    }
   ],
   "source": [
    "# Top 3 with unsuccessful launches\n",
    "q4 = '''\n",
    "SELECT Country, COUNT(*) AS UnsuccessfullLaunches\n",
    "FROM records\n",
    "WHERE MissionStatus = 'Failure' OR MissionStatus = 'PartialFailure' OR MissionStatus = 'Prelaunch Failure'\n",
    "GROUP BY Country\n",
    "ORDER BY UnsuccessfullLaunches DESC\n",
    "LIMIT 3;\n",
    "'''\n",
    "NtableName4 = 'top_uns-mission'\n",
    "df5 = pd.read_sql_query(q4, conn)\n",
    "df5.to_sql(NtableName4, conn2, if_exists='replace', index=False)\n",
    "\n",
    "print(df5)"
   ]
  },
  {
   "cell_type": "code",
   "execution_count": 24,
   "metadata": {},
   "outputs": [
    {
     "name": "stdout",
     "output_type": "stream",
     "text": [
      "         Country  SuccessfulLaunches  UnsuccessfulLaunches  \\\n",
      "0         France                 299                    14   \n",
      "1         Russia                1323                    63   \n",
      "2          China                 335                    24   \n",
      "3          Japan                 117                    10   \n",
      "4  Pacific Ocean                  33                     3   \n",
      "5            USA                1298                   134   \n",
      "6     Kazakhstan                 625                    72   \n",
      "7    New Zealand                  25                     3   \n",
      "8          India                  68                     9   \n",
      "9         Israel                   9                     2   \n",
      "\n",
      "   SuccessToFailureRatio  \n",
      "0              21.357143  \n",
      "1              21.000000  \n",
      "2              13.958333  \n",
      "3              11.700000  \n",
      "4              11.000000  \n",
      "5               9.686567  \n",
      "6               8.680556  \n",
      "7               8.333333  \n",
      "8               7.555556  \n",
      "9               4.500000  \n"
     ]
    }
   ],
   "source": [
    "# Succesfull & Unsuccessfull launches ratio (TOP 10)\n",
    "q5 = '''\n",
    "SELECT\n",
    "    Country,\n",
    "    SUM(CASE WHEN MissionStatus = 'Success' THEN 1 ELSE 0 END) AS SuccessfulLaunches,\n",
    "    SUM(CASE WHEN MissionStatus IN ('Failure', 'partialfailure', 'Prelaunchfailure') THEN 1 ELSE 0 END) AS UnsuccessfulLaunches,\n",
    "    (SUM(CASE WHEN MissionStatus = 'Success' THEN 1 ELSE 0 END) * 1.0 / NULLIF(SUM(CASE WHEN MissionStatus = 'Failure' THEN 1 ELSE 0 END), 0)) AS SuccessToFailureRatio\n",
    "FROM\n",
    "    records\n",
    "GROUP BY\n",
    "    Country\n",
    "ORDER BY\n",
    "    SuccessToFailureRatio DESC\n",
    "LIMIT 10;\n",
    "'''\n",
    "\n",
    "NtableName4 = 'ratios'\n",
    "df6 = pd.read_sql_query(q5,conn)\n",
    "df6.to_sql(NtableName4, conn2, if_exists='replace', index=False)\n",
    "\n",
    "print(df6)"
   ]
  }
 ],
 "metadata": {
  "kernelspec": {
   "display_name": "Python 3",
   "language": "python",
   "name": "python3"
  },
  "language_info": {
   "codemirror_mode": {
    "name": "ipython",
    "version": 3
   },
   "file_extension": ".py",
   "mimetype": "text/x-python",
   "name": "python",
   "nbconvert_exporter": "python",
   "pygments_lexer": "ipython3",
   "version": "3.11.5"
  },
  "orig_nbformat": 4
 },
 "nbformat": 4,
 "nbformat_minor": 2
}
