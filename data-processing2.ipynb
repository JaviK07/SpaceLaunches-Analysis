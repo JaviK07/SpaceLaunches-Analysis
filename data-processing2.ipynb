{
 "cells": [
  {
   "cell_type": "code",
   "execution_count": 10,
   "metadata": {},
   "outputs": [],
   "source": [
    "import pandas as pd\n",
    "import sqlite3\n",
    "import seaborn as sb\n",
    "import matplotlib as plt"
   ]
  },
  {
   "cell_type": "code",
   "execution_count": 11,
   "metadata": {},
   "outputs": [],
   "source": [
    "conn = sqlite3.connect('space_missions.sqlite')\n",
    "cur = conn.cursor()\n",
    "\n",
    "conn2 = sqlite3.connect('space_missions_insights.sqlite') \n",
    "cur = conn.cursor()"
   ]
  },
  {
   "cell_type": "code",
   "execution_count": 12,
   "metadata": {},
   "outputs": [
    {
     "data": {
      "text/plain": [
       "4285"
      ]
     },
     "execution_count": 12,
     "metadata": {},
     "output_type": "execute_result"
    }
   ],
   "source": [
    "# With the obtained previous data of launches, we query top 5 countries with successful launches to obtain the launch location\n",
    "q = '''\n",
    "SELECT Company, Country, Location, Date, Rocket, Mission\n",
    "FROM records\n",
    "WHERE (Country = 'USA' OR Country = 'Russia' OR Country = 'Kazakhstan' OR Country = 'China' OR Country = 'France');\n",
    "'''\n",
    "df = pd.read_sql_query(q,conn)\n",
    "df.to_sql('top5-launc-loc', conn2, if_exists='replace', index=False)"
   ]
  },
  {
   "cell_type": "code",
   "execution_count": 13,
   "metadata": {},
   "outputs": [
    {
     "data": {
      "text/plain": [
       "4285"
      ]
     },
     "execution_count": 13,
     "metadata": {},
     "output_type": "execute_result"
    }
   ],
   "source": [
    "q2 ='''\n",
    "SELECT SUBSTR(Date, -4) AS año, COUNT(*) AS launches_per_year\n",
    "FROM records\n",
    "GROUP BY SUBSTR(Date, -4)\n",
    "ORDER BY launches_per_year DESC\n",
    "LIMIT 5;\n",
    "'''\n",
    "\n",
    "df2 = pd.read_sql_query(q2,conn)\n",
    "df.to_sql('launches-per-year', conn2, if_exists='replace', index=False)"
   ]
  }
 ],
 "metadata": {
  "kernelspec": {
   "display_name": "Python 3",
   "language": "python",
   "name": "python3"
  },
  "language_info": {
   "codemirror_mode": {
    "name": "ipython",
    "version": 3
   },
   "file_extension": ".py",
   "mimetype": "text/x-python",
   "name": "python",
   "nbconvert_exporter": "python",
   "pygments_lexer": "ipython3",
   "version": "3.11.5"
  },
  "orig_nbformat": 4
 },
 "nbformat": 4,
 "nbformat_minor": 2
}
